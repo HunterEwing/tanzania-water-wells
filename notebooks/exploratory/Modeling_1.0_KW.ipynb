{
 "cells": [
  {
   "cell_type": "code",
   "execution_count": 2,
   "metadata": {},
   "outputs": [],
   "source": [
    "%load_ext autoreload\n",
    "%autoreload 2"
   ]
  },
  {
   "cell_type": "code",
   "execution_count": 3,
   "metadata": {},
   "outputs": [
    {
     "name": "stderr",
     "output_type": "stream",
     "text": [
      "//anaconda3/envs/sklearn-env/lib/python3.7/site-packages/sklearn/externals/six.py:31: FutureWarning: The module is deprecated in version 0.21 and will be removed in version 0.23 since we've dropped support for Python 2.7. Please rely on the official version of six (https://pypi.org/project/six/).\n",
      "  \"(https://pypi.org/project/six/).\", FutureWarning)\n"
     ]
    }
   ],
   "source": [
    "import numpy as np\n",
    "import pandas as pd\n",
    "import seaborn as sns\n",
    "import matplotlib.pyplot as plt\n",
    "import numpy as np\n",
    "from sklearn.tree import DecisionTreeClassifier\n",
    "from sklearn.preprocessing import OneHotEncoder\n",
    "from sklearn.model_selection import train_test_split\n",
    "from sklearn.metrics import confusion_matrix  \n",
    "from sklearn.metrics import accuracy_score \n",
    "from sklearn.metrics import classification_report \n",
    "from sklearn.externals.six import StringIO\n",
    "from IPython.display import Image\n",
    "from sklearn.tree import export_graphviz\n",
    "import pydotplus\n",
    "\n",
    "import functions_used.functions_used as func"
   ]
  },
  {
   "cell_type": "code",
   "execution_count": 4,
   "metadata": {},
   "outputs": [],
   "source": [
    "file_train = \"~/ds/proj3/tanzania-water-wells/data/raw/training-set-values.csv\" #x_train, training set values data\n",
    "file_target_train = \"~/ds/proj3/tanzania-water-wells/data/raw/training-labels.csv\" #y_train, training set labels\n",
    "file_test = \"~/ds/proj3/tanzania-water-wells/data/raw/test-set.csv\" #x_test, test set data"
   ]
  },
  {
   "cell_type": "code",
   "execution_count": 82,
   "metadata": {},
   "outputs": [],
   "source": [
    "features = pd.read_csv(file_train)\n",
    "targets = pd.read_csv(file_target_train)\n",
    "X_test = pd.read_csv(file_test)"
   ]
  },
  {
   "cell_type": "code",
   "execution_count": 93,
   "metadata": {},
   "outputs": [],
   "source": [
    "targets['status_group'] = targets['status_group'].map({'non functional':'needs repair','functional needs repair':'needs repair','functional':'functional'})"
   ]
  },
  {
   "cell_type": "markdown",
   "metadata": {},
   "source": [
    "## Functions "
   ]
  },
  {
   "cell_type": "code",
   "execution_count": 80,
   "metadata": {},
   "outputs": [],
   "source": [
    "def model_preprocessing(df, feature_list, ohe, train=True):\n",
    "    print('Beginning numerical cleaning...')\n",
    "    df = numerical_clean(df, feature_list)\n",
    "    print('Completed numerical cleaning.\\n')\n",
    "    \n",
    "    print('Removing the target from the cleaned data frame...')\n",
    "    target = df['status_group']\n",
    "    print(\"---Length of target: \", len(target))\n",
    "    df = df.drop(columns='status_group', axis = 1)\n",
    "    print(\"---Shape of dataframe: \", df.shape)\n",
    "    \n",
    "    print(\"Reading the remaining columns as independent features\\n\")\n",
    "    obj_list = obj_lister(df)\n",
    "    \n",
    "    \n",
    "    print('Begining \"object\" cleaning...')\n",
    "    ohe_df = obj_preprocessing(df, obj_list, ohe, train)\n",
    "    print(\"---Shape of ohe_df: \", ohe_df.shape)\n",
    "    print('...ending \"object\" cleaning.')\n",
    "    \n",
    "    print(\"Joining the cleaned numerical and object dataframes together.\")\n",
    "    # dropping the independent features from X\n",
    "    df = df.drop(obj_list, axis=1)\n",
    "    # joining the OHE dataframe to X\n",
    "    model_df = df.join(ohe_df)\n",
    "    print('Returning the main (independent features, X) and target (y) data frames...')\n",
    "    return model_df, target\n",
    "\n",
    "\n",
    "def numerical_clean(df, feature_list):\n",
    "    #this takes the df and the list of numerical features to clean\n",
    "    df = df[feature_list]\n",
    "    print(\"check: df shape = \", df.shape)\n",
    "    print('---Dropping 0 longitudes...')\n",
    "    df = drop_zero_long(df)\n",
    "    print(\"check: df shape = \", df.shape)\n",
    "    print(\"---Replace 0's with average constructor year...\")\n",
    "    df = con_year_avg(df)\n",
    "    print(\"check: df shape = \", df.shape)\n",
    "    print('...returning a cleaned dataframe of numerical values.')\n",
    "    return df\n",
    "\n",
    "def drop_zero_long(df):\n",
    "    return df.drop(df[df.longitude==0].index)\n",
    "\n",
    "def con_year_avg(df):\n",
    "    con_year_nonzero = df.replace(0, np.nan)\n",
    "    avg_con_years = pd.DataFrame(con_year_nonzero.groupby(['extraction_type']).mean()['construction_year'])\n",
    "    df = df.join(avg_con_years, rsuffix = '_avg', on = 'extraction_type')\n",
    "    df = df.reset_index()\n",
    "    df = df.drop(['index'], axis = 1)\n",
    "#    df['construction_year'] = df.apply(con_year, axis=1)\n",
    "    df = df.drop(['construction_year_avg'], axis = 1)\n",
    "    return df\n",
    "\n",
    "def obj_lister(df):\n",
    "    # returns a list of columns that contain Objects\n",
    "    obj_list = []\n",
    "    for col in df.select_dtypes([np.object]):\n",
    "        obj_list.append(col)\n",
    "    return obj_list\n",
    "\n",
    "def obj_preprocessing(df, obj_list, ohe, train = True):\n",
    "    '''\n",
    "    \n",
    "    '''\n",
    "    df_current = df[obj_list]\n",
    "    # Clean the df if there are NaNs\n",
    "    df = NaN_cleaning(df_current)\n",
    "    #OHE data\n",
    "    array_current = ohe_data(df, ohe, train)\n",
    "    #return a dataframe of the OHE data\n",
    "    return pd.DataFrame(array_current)\n",
    "\n",
    "\n",
    "def NaN_cleaning(df):\n",
    "    # Replace NaN with \"unknown\" bin\n",
    "    print('---Replacing NaN with \"unknown\" bin...')\n",
    "    df = df.replace(np.nan, 'unknown')\n",
    "    print(f'---Check: Number of rows with nulls: {len(df[df.isna().any(axis=1)])}...\\n')\n",
    "    return df.reset_index(drop=True)\n",
    "\n",
    "def ohe_data(df, ohe, train):\n",
    "    #OHE the data\n",
    "    print('Begin one hot encoding data...')\n",
    "    if train:\n",
    "        array_current = ohe.fit_transform(df).toarray()\n",
    "    else:\n",
    "        array_current = ohe.transform(df).toarray()\n",
    "    print('Finish one hot encoding data...\\n')\n",
    "    return array_current\n",
    "\n",
    "\n",
    "# Function to calculate accuracy \n",
    "# from: https://www.geeksforgeeks.org/decision-tree-implementation-python/\n",
    "def calc_accuracy(y_test, y_pred): \n",
    "      \n",
    "    print(\"Confusion Matrix: \", \n",
    "    confusion_matrix(y_test, y_pred)) \n",
    "      \n",
    "    print (\"Accuracy : \", \n",
    "    accuracy_score(y_test,y_pred)*100) \n",
    "      \n",
    "    print(\"Report : \", \n",
    "    classification_report(y_test, y_pred)) \n",
    "  \n"
   ]
  },
  {
   "cell_type": "markdown",
   "metadata": {},
   "source": [
    "## Model 1: Decision Tree; Gini criterion"
   ]
  },
  {
   "cell_type": "code",
   "execution_count": 162,
   "metadata": {},
   "outputs": [],
   "source": [
    "#note the target is listed in here\n",
    "\n",
    "features_list = ['basin', 'region', 'scheme_management', 'scheme_name',\n",
    "       'extraction_type', 'management', 'payment', 'water_quality', 'quantity',\n",
    "       'source', 'waterpoint_type','gps_height', 'longitude', 'latitude', \n",
    "       'region_code', 'district_code', 'population', 'construction_year', 'status_group']   \n"
   ]
  },
  {
   "cell_type": "code",
   "execution_count": 163,
   "metadata": {},
   "outputs": [],
   "source": [
    "ohe = OneHotEncoder(handle_unknown = 'ignore')"
   ]
  },
  {
   "cell_type": "markdown",
   "metadata": {},
   "source": [
    "- Perform a train test split of the \"training data\" given in the problem. \n",
    "- Join the training data (X and y) together.\n"
   ]
  },
  {
   "cell_type": "code",
   "execution_count": 164,
   "metadata": {},
   "outputs": [],
   "source": [
    "X_train, X_test, y_train, y_test = train_test_split(features, targets, random_state=42)"
   ]
  },
  {
   "cell_type": "code",
   "execution_count": 165,
   "metadata": {},
   "outputs": [],
   "source": [
    "joined_train = X_train.join(y_train, lsuffix='_l', rsuffix='_r')"
   ]
  },
  {
   "cell_type": "markdown",
   "metadata": {},
   "source": [
    "- Perform the pre-processing. Clean the numerical data. Perform One Hot Encoding."
   ]
  },
  {
   "cell_type": "code",
   "execution_count": 166,
   "metadata": {},
   "outputs": [
    {
     "name": "stdout",
     "output_type": "stream",
     "text": [
      "Beginning numerical cleaning...\n",
      "check: df shape =  (44550, 19)\n",
      "---Dropping 0 longitudes...\n",
      "check: df shape =  (43211, 19)\n",
      "---Replace 0's with average constructor year...\n",
      "check: df shape =  (43211, 19)\n",
      "...returning a cleaned dataframe of numerical values.\n",
      "Completed numerical cleaning.\n",
      "\n",
      "Removing the target from the cleaned data frame...\n",
      "---Length of target:  43211\n",
      "---Shape of dataframe:  (43211, 18)\n",
      "Reading the remaining columns as independent features\n",
      "\n",
      "Begining \"object\" cleaning...\n",
      "---Replacing NaN with \"unknown\" bin...\n",
      "---Check: Number of rows with nulls: 0...\n",
      "\n",
      "Begin one hot encoding data...\n",
      "Finish one hot encoding data...\n",
      "\n",
      "---Shape of ohe_df:  (43211, 2572)\n",
      "...ending \"object\" cleaning.\n",
      "Joining the cleaned numerical and object dataframes together.\n",
      "Returning the main (independent features, X) and target (y) data frames...\n"
     ]
    }
   ],
   "source": [
    "joined_train_processed, y_train = func.model_preprocessing(joined_train, features_list, ohe, train = True)"
   ]
  },
  {
   "cell_type": "markdown",
   "metadata": {},
   "source": [
    "- Train the decision tree with training data."
   ]
  },
  {
   "cell_type": "code",
   "execution_count": 167,
   "metadata": {},
   "outputs": [
    {
     "data": {
      "text/plain": [
       "DecisionTreeClassifier(ccp_alpha=0.0, class_weight=None, criterion='gini',\n",
       "                       max_depth=5, max_features=None, max_leaf_nodes=None,\n",
       "                       min_impurity_decrease=0.0, min_impurity_split=None,\n",
       "                       min_samples_leaf=1, min_samples_split=2,\n",
       "                       min_weight_fraction_leaf=0.0, presort='deprecated',\n",
       "                       random_state=42, splitter='best')"
      ]
     },
     "execution_count": 167,
     "metadata": {},
     "output_type": "execute_result"
    }
   ],
   "source": [
    "dtc = DecisionTreeClassifier(random_state=42, max_depth=5) \n",
    "dtc.fit(joined_train_processed, y_train)"
   ]
  },
  {
   "cell_type": "markdown",
   "metadata": {},
   "source": [
    "- Repeat the pre-processing on the test data.\n",
    "- Join the testing data (X and y) together."
   ]
  },
  {
   "cell_type": "code",
   "execution_count": 168,
   "metadata": {},
   "outputs": [],
   "source": [
    "joined_test = X_test.join(y_test, lsuffix='_l', rsuffix='_r')"
   ]
  },
  {
   "cell_type": "markdown",
   "metadata": {},
   "source": [
    "- Preprocess the testing data."
   ]
  },
  {
   "cell_type": "code",
   "execution_count": 169,
   "metadata": {},
   "outputs": [
    {
     "name": "stdout",
     "output_type": "stream",
     "text": [
      "Beginning numerical cleaning...\n",
      "check: df shape =  (14850, 19)\n",
      "---Dropping 0 longitudes...\n",
      "check: df shape =  (14377, 19)\n",
      "---Replace 0's with average constructor year...\n",
      "check: df shape =  (14377, 19)\n",
      "...returning a cleaned dataframe of numerical values.\n",
      "Completed numerical cleaning.\n",
      "\n",
      "Removing the target from the cleaned data frame...\n",
      "---Length of target:  14377\n",
      "---Shape of dataframe:  (14377, 18)\n",
      "Reading the remaining columns as independent features\n",
      "\n",
      "Begining \"object\" cleaning...\n",
      "---Replacing NaN with \"unknown\" bin...\n",
      "---Check: Number of rows with nulls: 0...\n",
      "\n",
      "Begin one hot encoding data...\n",
      "Finish one hot encoding data...\n",
      "\n",
      "---Shape of ohe_df:  (14377, 2572)\n",
      "...ending \"object\" cleaning.\n",
      "Joining the cleaned numerical and object dataframes together.\n",
      "Returning the main (independent features, X) and target (y) data frames...\n"
     ]
    }
   ],
   "source": [
    "joined_test_processed, y_test = func.model_preprocessing(joined_test, features_list, ohe, train=False)"
   ]
  },
  {
   "cell_type": "markdown",
   "metadata": {},
   "source": [
    "- Make predictions with the test data."
   ]
  },
  {
   "cell_type": "code",
   "execution_count": 170,
   "metadata": {},
   "outputs": [],
   "source": [
    "predicts = dtc.predict(joined_test_processed)"
   ]
  },
  {
   "cell_type": "markdown",
   "metadata": {},
   "source": [
    "- Check the score of the model."
   ]
  },
  {
   "cell_type": "code",
   "execution_count": 171,
   "metadata": {},
   "outputs": [
    {
     "data": {
      "text/plain": [
       "0.7203171732628504"
      ]
     },
     "execution_count": 171,
     "metadata": {},
     "output_type": "execute_result"
    }
   ],
   "source": [
    "dtc.score(joined_test_processed, y_test) #x_test, y_test from split"
   ]
  },
  {
   "cell_type": "code",
   "execution_count": 172,
   "metadata": {},
   "outputs": [
    {
     "name": "stdout",
     "output_type": "stream",
     "text": [
      "Confusion Matrix:  [[7529  333]\n",
      " [3688 2827]]\n",
      "Accuracy :  72.03171732628503\n",
      "Report :                precision    recall  f1-score   support\n",
      "\n",
      "  functional       0.67      0.96      0.79      7862\n",
      "needs repair       0.89      0.43      0.58      6515\n",
      "\n",
      "    accuracy                           0.72     14377\n",
      "   macro avg       0.78      0.70      0.69     14377\n",
      "weighted avg       0.77      0.72      0.70     14377\n",
      "\n"
     ]
    }
   ],
   "source": [
    "func.calc_accuracy(y_test, predicts)"
   ]
  },
  {
   "cell_type": "markdown",
   "metadata": {},
   "source": [
    "## Model #2"
   ]
  },
  {
   "cell_type": "code",
   "execution_count": 179,
   "metadata": {},
   "outputs": [],
   "source": [
    "from sklearn.model_selection import GridSearchCV\n",
    "from sklearn.ensemble import RandomForestClassifier\n",
    "\n",
    "\n",
    "param_grid = {\n",
    "    'criterion': ['gini', 'entropy'],\n",
    "    'max_depth': [10, 25, 50]\n",
    "}\n",
    "gs = GridSearchCV(estimator=rfc, param_grid=param_grid, cv=5)"
   ]
  },
  {
   "cell_type": "code",
   "execution_count": 174,
   "metadata": {},
   "outputs": [
    {
     "data": {
      "text/plain": [
       "GridSearchCV(cv=5, error_score=nan,\n",
       "             estimator=RandomForestClassifier(bootstrap=True, ccp_alpha=0.0,\n",
       "                                              class_weight=None,\n",
       "                                              criterion='gini', max_depth=None,\n",
       "                                              max_features='auto',\n",
       "                                              max_leaf_nodes=None,\n",
       "                                              max_samples=None,\n",
       "                                              min_impurity_decrease=0.0,\n",
       "                                              min_impurity_split=None,\n",
       "                                              min_samples_leaf=1,\n",
       "                                              min_samples_split=2,\n",
       "                                              min_weight_fraction_leaf=0.0,\n",
       "                                              n_estimators=50, n_jobs=None,\n",
       "                                              oob_score=False, random_state=1,\n",
       "                                              verbose=0, warm_start=False),\n",
       "             iid='deprecated', n_jobs=None,\n",
       "             param_grid={'criterion': ['gini', 'entropy'],\n",
       "                         'max_depth': [10, 25, 50]},\n",
       "             pre_dispatch='2*n_jobs', refit=True, return_train_score=False,\n",
       "             scoring=None, verbose=0)"
      ]
     },
     "execution_count": 174,
     "metadata": {},
     "output_type": "execute_result"
    }
   ],
   "source": [
    "gs.fit(joined_train_processed, y_train)"
   ]
  },
  {
   "cell_type": "code",
   "execution_count": 175,
   "metadata": {},
   "outputs": [
    {
     "data": {
      "text/plain": [
       "{'criterion': 'gini', 'max_depth': 50}"
      ]
     },
     "execution_count": 175,
     "metadata": {},
     "output_type": "execute_result"
    }
   ],
   "source": [
    "gs.best_params_"
   ]
  },
  {
   "cell_type": "code",
   "execution_count": 176,
   "metadata": {},
   "outputs": [
    {
     "data": {
      "text/plain": [
       "0.8163661223277648"
      ]
     },
     "execution_count": 176,
     "metadata": {},
     "output_type": "execute_result"
    }
   ],
   "source": [
    "gs.best_score_"
   ]
  },
  {
   "cell_type": "code",
   "execution_count": 177,
   "metadata": {},
   "outputs": [
    {
     "data": {
      "text/plain": [
       "RandomForestClassifier(bootstrap=True, ccp_alpha=0.0, class_weight=None,\n",
       "                       criterion='gini', max_depth=50, max_features='auto',\n",
       "                       max_leaf_nodes=None, max_samples=None,\n",
       "                       min_impurity_decrease=0.0, min_impurity_split=None,\n",
       "                       min_samples_leaf=1, min_samples_split=2,\n",
       "                       min_weight_fraction_leaf=0.0, n_estimators=50,\n",
       "                       n_jobs=None, oob_score=False, random_state=1, verbose=0,\n",
       "                       warm_start=False)"
      ]
     },
     "execution_count": 177,
     "metadata": {},
     "output_type": "execute_result"
    }
   ],
   "source": [
    "gs.best_estimator_"
   ]
  },
  {
   "cell_type": "code",
   "execution_count": 194,
   "metadata": {},
   "outputs": [],
   "source": [
    "rfc = RandomForestClassifier(n_estimators=50, random_state=42, bootstrap=True, max_depth = 50)"
   ]
  },
  {
   "cell_type": "code",
   "execution_count": 195,
   "metadata": {},
   "outputs": [
    {
     "data": {
      "text/plain": [
       "RandomForestClassifier(bootstrap=True, ccp_alpha=0.0, class_weight=None,\n",
       "                       criterion='gini', max_depth=50, max_features='auto',\n",
       "                       max_leaf_nodes=None, max_samples=None,\n",
       "                       min_impurity_decrease=0.0, min_impurity_split=None,\n",
       "                       min_samples_leaf=1, min_samples_split=2,\n",
       "                       min_weight_fraction_leaf=0.0, n_estimators=50,\n",
       "                       n_jobs=None, oob_score=False, random_state=42, verbose=0,\n",
       "                       warm_start=False)"
      ]
     },
     "execution_count": 195,
     "metadata": {},
     "output_type": "execute_result"
    }
   ],
   "source": [
    "rfc.fit(joined_train_processed,y_train)"
   ]
  },
  {
   "cell_type": "code",
   "execution_count": 196,
   "metadata": {},
   "outputs": [],
   "source": [
    "rfc_predicts = rfc.predict(joined_test_processed)"
   ]
  },
  {
   "cell_type": "code",
   "execution_count": 197,
   "metadata": {},
   "outputs": [
    {
     "data": {
      "text/plain": [
       "0.8200598177644849"
      ]
     },
     "execution_count": 197,
     "metadata": {},
     "output_type": "execute_result"
    }
   ],
   "source": [
    "rfc.score(joined_test_processed, y_test)"
   ]
  },
  {
   "cell_type": "code",
   "execution_count": 198,
   "metadata": {},
   "outputs": [
    {
     "data": {
      "text/plain": [
       "array([[6780, 1082],\n",
       "       [1505, 5010]])"
      ]
     },
     "execution_count": 198,
     "metadata": {},
     "output_type": "execute_result"
    }
   ],
   "source": [
    "confusion_matrix(y_test, rfc_predicts)"
   ]
  },
  {
   "cell_type": "code",
   "execution_count": 207,
   "metadata": {},
   "outputs": [
    {
     "name": "stdout",
     "output_type": "stream",
     "text": [
      "Confusion Matrix:  [[6780 1082]\n",
      " [1505 5010]]\n",
      "Accuracy :  82.0059817764485\n",
      "Report :                precision    recall  f1-score   support\n",
      "\n",
      "  functional       0.82      0.86      0.84      7862\n",
      "needs repair       0.82      0.77      0.79      6515\n",
      "\n",
      "    accuracy                           0.82     14377\n",
      "   macro avg       0.82      0.82      0.82     14377\n",
      "weighted avg       0.82      0.82      0.82     14377\n",
      "\n"
     ]
    }
   ],
   "source": [
    "func.calc_accuracy(y_test, rfc_predicts)"
   ]
  },
  {
   "cell_type": "code",
   "execution_count": 188,
   "metadata": {},
   "outputs": [
    {
     "data": {
      "text/plain": [
       "<matplotlib.axes._subplots.AxesSubplot at 0x11f5c96d8>"
      ]
     },
     "execution_count": 188,
     "metadata": {},
     "output_type": "execute_result"
    },
    {
     "data": {
      "image/png": "[encoded data removed]",
      "text/plain": [
       "<Figure size 432x288 with 2 Axes>"
      ]
     },
     "metadata": {
      "needs_background": "light"
     },
     "output_type": "display_data"
    }
   ],
   "source": [
    "sns.heatmap(confusion_matrix(y_test, rfc_predicts))"
   ]
  },
  {
   "cell_type": "code",
   "execution_count": 199,
   "metadata": {},
   "outputs": [],
   "source": [
    "import matplotlib.pyplot as plt\n",
    "import seaborn as sns\n",
    "from scipy.spatial.distance import euclidean as euc\n",
    "import numpy as np\n",
    "import pandas as pd\n",
    "from sklearn.datasets import make_classification\n",
    "# from visualize import generate_moons_df, preprocess, plot_boundaries\n",
    "\n",
    "from sklearn.model_selection import train_test_split, cross_val_score\n",
    "from sklearn.metrics import mean_squared_error, r2_score\n",
    "from sklearn.preprocessing import StandardScaler\n",
    "\n",
    "from sklearn.metrics import classification_report\n",
    "from sklearn.linear_model import LogisticRegression\n",
    "from sklearn.neighbors import KNeighborsClassifier\n",
    "np.random.seed(0)"
   ]
  },
  {
   "cell_type": "code",
   "execution_count": 200,
   "metadata": {},
   "outputs": [],
   "source": [
    "features_list = ['basin', 'region', 'scheme_management', 'scheme_name',\n",
    "       'extraction_type', 'management', 'payment', 'water_quality', 'quantity',\n",
    "       'source', 'waterpoint_type','gps_height', 'longitude', 'latitude', \n",
    "       'region_code', 'district_code', 'population', 'construction_year', 'status_group']   \n",
    "\n",
    "scaler = StandardScaler()\n",
    "scaler.fit(joined_train_processed)\n",
    "X_train_scaled = scaler.transform(joined_train_processed)\n",
    "X_test_scaled = scaler.transform(joined_test_processed)"
   ]
  },
  {
   "cell_type": "code",
   "execution_count": 201,
   "metadata": {},
   "outputs": [
    {
     "data": {
      "text/plain": [
       "KNeighborsClassifier(algorithm='auto', leaf_size=30, metric='minkowski',\n",
       "                     metric_params=None, n_jobs=None, n_neighbors=3, p=2,\n",
       "                     weights='uniform')"
      ]
     },
     "execution_count": 201,
     "metadata": {},
     "output_type": "execute_result"
    }
   ],
   "source": [
    "knn = KNeighborsClassifier(n_neighbors=3)\n",
    "# knn.fit(joined_train_processed, y_train)\n",
    "\n",
    "knn.fit(X_train_scaled,y_train)"
   ]
  },
  {
   "cell_type": "code",
   "execution_count": 202,
   "metadata": {},
   "outputs": [],
   "source": [
    "sk_preds = knn.predict(X_test_scaled)"
   ]
  },
  {
   "cell_type": "code",
   "execution_count": null,
   "metadata": {},
   "outputs": [],
   "source": [
    "knn.score(X_test_scaled,y_test)"
   ]
  },
  {
   "cell_type": "code",
   "execution_count": 204,
   "metadata": {},
   "outputs": [
    {
     "name": "stdout",
     "output_type": "stream",
     "text": [
      "Confusion Matrix:  [[6456 1406]\n",
      " [1664 4851]]\n",
      "Accuracy :  78.64644918967795\n",
      "Report :                precision    recall  f1-score   support\n",
      "\n",
      "  functional       0.80      0.82      0.81      7862\n",
      "needs repair       0.78      0.74      0.76      6515\n",
      "\n",
      "    accuracy                           0.79     14377\n",
      "   macro avg       0.79      0.78      0.78     14377\n",
      "weighted avg       0.79      0.79      0.79     14377\n",
      "\n"
     ]
    }
   ],
   "source": [
    "func.calc_accuracy(y_test,sk_preds)"
   ]
  },
  {
   "cell_type": "code",
   "execution_count": 217,
   "metadata": {},
   "outputs": [
    {
     "data": {
      "text/plain": [
       "<matplotlib.axes._subplots.AxesSubplot at 0x11c9ef7b8>"
      ]
     },
     "execution_count": 217,
     "metadata": {},
     "output_type": "execute_result"
    },
    {
     "data": {
      "image/png": "[encoded data removed]",
      "text/plain": [
       "<Figure size 432x288 with 2 Axes>"
      ]
     },
     "metadata": {
      "needs_background": "light"
     },
     "output_type": "display_data"
    }
   ],
   "source": [
    "sns.heatmap(confusion_matrix(y_test, sk_preds))"
   ]
  },
  {
   "cell_type": "markdown",
   "metadata": {},
   "source": [
    "# Model 4"
   ]
  },
  {
   "cell_type": "code",
   "execution_count": 110,
   "metadata": {},
   "outputs": [
    {
     "name": "stderr",
     "output_type": "stream",
     "text": [
      "//anaconda3/envs/sklearn-env/lib/python3.7/site-packages/sklearn/utils/optimize.py:212: ConvergenceWarning: newton-cg failed to converge. Increase the number of iterations.\n",
      "  \"number of iterations.\", ConvergenceWarning)\n"
     ]
    },
    {
     "data": {
      "text/plain": [
       "array([[6827, 1035],\n",
       "       [2591, 3924]])"
      ]
     },
     "execution_count": 110,
     "metadata": {},
     "output_type": "execute_result"
    }
   ],
   "source": [
    "logreg = LogisticRegression(solver='newton-cg', max_iter=20, random_state=42, multi_class = 'multinomial')\n",
    "\n",
    "logreg.fit(joined_train_processed, y_train)\n",
    "\n",
    "confusion_matrix(y_test, logreg.predict(joined_test_processed))"
   ]
  },
  {
   "cell_type": "code",
   "execution_count": null,
   "metadata": {},
   "outputs": [],
   "source": []
  }
 ],
 "metadata": {
  "kernelspec": {
   "display_name": "Python (sklearn-env)",
   "language": "python",
   "name": "sklearn-env"
  },
  "language_info": {
   "codemirror_mode": {
    "name": "ipython",
    "version": 3
   },
   "file_extension": ".py",
   "mimetype": "text/x-python",
   "name": "python",
   "nbconvert_exporter": "python",
   "pygments_lexer": "ipython3",
   "version": "3.7.3"
  }
 },
 "nbformat": 4,
 "nbformat_minor": 2
}
